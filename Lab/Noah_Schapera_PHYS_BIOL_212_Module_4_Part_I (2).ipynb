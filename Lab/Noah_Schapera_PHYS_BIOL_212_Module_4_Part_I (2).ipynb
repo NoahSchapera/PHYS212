{
  "nbformat": 4,
  "nbformat_minor": 0,
  "metadata": {
    "colab": {
      "name": "Noah Schapera PHYS/BIOL 212: Module 4 Part I",
      "provenance": [],
      "collapsed_sections": []
    },
    "kernelspec": {
      "name": "python3",
      "display_name": "Python 3"
    },
    "language_info": {
      "name": "python"
    }
  },
  "cells": [
    {
      "cell_type": "code",
      "source": [
        "%%shell\n",
        "jupyter nbconvert --to html /content/Noah_Schapera_PHYS_BIOL_212_Module_4_Part_I.ipynb"
      ],
      "metadata": {
        "colab": {
          "base_uri": "https://localhost:8080/"
        },
        "id": "0rDmlMOhwDuO",
        "outputId": "2bee8f80-335c-455e-fe11-dd1c50efc401"
      },
      "execution_count": null,
      "outputs": [
        {
          "output_type": "stream",
          "name": "stdout",
          "text": [
            "[NbConvertApp] Converting notebook /content/Noah_Schapera_PHYS_BIOL_212_Module_4_Part_I.ipynb to html\n",
            "[NbConvertApp] Writing 367593 bytes to /content/Noah_Schapera_PHYS_BIOL_212_Module_4_Part_I.html\n"
          ]
        },
        {
          "output_type": "execute_result",
          "data": {
            "text/plain": [
              ""
            ]
          },
          "metadata": {},
          "execution_count": 13
        }
      ]
    },
    {
      "cell_type": "markdown",
      "source": [
        "This is the first half of the module 4 assignment. The full module 4 assignment will be due on Monday, March 14 at 11:59 pm ET.  To submit your work, please download this document as an html file and upload that to Canvas. "
      ],
      "metadata": {
        "id": "cQGBXqDOJ4se"
      }
    },
    {
      "cell_type": "markdown",
      "source": [
        "0. List the names of your group members, as well as any other class members you conferred with for this assignment."
      ],
      "metadata": {
        "id": "hvreYgaHO9mn"
      }
    },
    {
      "cell_type": "code",
      "source": [
        "Noah Schapera, Jacob Marcus"
      ],
      "metadata": {
        "id": "opi1ZbyUvmLL"
      },
      "execution_count": null,
      "outputs": []
    },
    {
      "cell_type": "markdown",
      "source": [
        "Noah Schapera, Jacob Marcus"
      ],
      "metadata": {
        "id": "ru7e2G6o_J9O"
      }
    },
    {
      "cell_type": "markdown",
      "source": [
        "1. We discussed fitting models to data using the least squares regression. The Python function ```lstsqr``` within the linalg submodule of numpy that will perform model fits to data using least squares regression.  In this question, you will explore the details of fitting polynomial models to data."
      ],
      "metadata": {
        "id": "Exsd7otkxmmp"
      }
    },
    {
      "cell_type": "markdown",
      "source": [
        "(a) We discussed fitting a linear function to a data set in class, and wrote out the matrix equation that corresponds to a linear function with two fit parameters.  Assume now that you have a data set with $4$ points: $(x_1,y_1)$, $(x_2,y_2)$, $(x_3,y_3)$, $(x_4,y_4)$, and that the best-fit model is of the form: $y = ax^2+bx+c$. Write the corresponding matrix equation, in the form of $\\vec{y} = A \\vec{m}$.\n",
        "\n",
        "\\begin{gather}\n",
        " \\begin{bmatrix}\n",
        "y_1\\\\\n",
        "y_2\\\\\n",
        "y_3\n",
        "\\end{bmatrix}\n",
        " =\n",
        "  \\begin{bmatrix}\n",
        "x_1^2 & x_1 & 1\\\\\n",
        "x_2^2 & x_2 & 1\\\\\n",
        "x_3^2 & x_3 & 1\\\\\n",
        "\\end{bmatrix}\n",
        "  \\begin{bmatrix}\n",
        "   a \\\\\n",
        "   b \\\\\n",
        "   c \\\\ \n",
        "   \\end{bmatrix}\n",
        "\\end{gather}"
      ],
      "metadata": {
        "id": "oYtROmiI07e2"
      }
    },
    {
      "cell_type": "markdown",
      "source": [
        "(b) Using the answer to the (a) as a guide, write down a more generalized form of this matrix equation that assumes you have $n$ data points and want to fit a $k^{th}$ order polynomial to your data.\n",
        "\n",
        "\\begin{gather}\n",
        " \\begin{bmatrix}\n",
        "y_1\\\\\n",
        "y_2\\\\\n",
        "y_3 \\\\\n",
        "... \\\\\n",
        "y_n\n",
        "\\end{bmatrix}\n",
        " =\n",
        "  \\begin{bmatrix}\n",
        "x_1^k & x_1^{k-1} & ... & 1\\\\\n",
        "x_2^k & x_2^{k-1} & ... & 1\\\\\n",
        "x_3^k & x_3^{k-1} & ... & 1\\\\\n",
        "... & ... & ... & 1 \\\\\n",
        "x_n^k & x_n^{k-1} & ... & 1\n",
        "\\end{bmatrix}\n",
        "  \\begin{bmatrix}\n",
        "   a \\\\\n",
        "   b \\\\\n",
        "   c \\\\\n",
        "   ... \\\\\n",
        "   k+1 \n",
        "   \\end{bmatrix}\n",
        "\\end{gather}"
      ],
      "metadata": {
        "id": "JzeIFSiczg1g"
      }
    },
    {
      "cell_type": "markdown",
      "source": [
        "(c) Write a function that uses ```lstsq``` to fit a polynomial of any order $k$ to an arbitrary data set. Your function should take in $x$ and $y$ values for a data set and a specified polynomial order, $k$. Your function should return an array of all fit parameter values."
      ],
      "metadata": {
        "id": "jV4pmigW27eW"
      }
    },
    {
      "cell_type": "code",
      "source": [
        "import numpy as np\n",
        "import matplotlib.pyplot as plt\n"
      ],
      "metadata": {
        "id": "8Nhufge4KCKY"
      },
      "execution_count": null,
      "outputs": []
    },
    {
      "cell_type": "code",
      "source": [
        "\n",
        "def findParams(x,y,k):\n",
        "  A=np.zeros((len(x),k+1))\n",
        "  ks=np.zeros(k+1)\n",
        "  for ki in range(len(ks)):\n",
        "    ks[ki]=k-ki\n",
        "  for i in range(np.shape(A)[0]):\n",
        "    for ii in range(np.shape(A)[1]):\n",
        "      A[i][ii]=x[i]**ks[ii]\n",
        "  m=np.linalg.lstsq(A,y,rcond=None)\n",
        "  return m[0]"
      ],
      "metadata": {
        "id": "P7ieGSYS_Xcr"
      },
      "execution_count": null,
      "outputs": []
    },
    {
      "cell_type": "markdown",
      "source": [
        "(d) Test your function. Create some data for x-values in the range $[-10,10]$ using the equation $y = 5x^2+3x+2$. Using the procedure we discussed in class, add some noise to your data, with a noise amplitude of $50$. Fit your data using your function from part (c). Plot your data and the resulting fit. Be sure to include labels for full credit."
      ],
      "metadata": {
        "id": "SwKUssqSnzw4"
      }
    },
    {
      "cell_type": "code",
      "source": [
        "def noiseAdd(y,noiseAmp):\n",
        "  noise = noiseAmp*(np.random.rand(len(y))-0.5)\n",
        "  yNoise = y+noise\n",
        "  return yNoise"
      ],
      "metadata": {
        "id": "2gRy-HNhKVRC"
      },
      "execution_count": null,
      "outputs": []
    },
    {
      "cell_type": "code",
      "source": [
        "x=np.linspace(-10,10,100)\n",
        "y=5*x**2+3*x+2\n",
        "yNoise=noiseAdd(y,50)\n",
        "m=findParams(x,yNoise,2)\n",
        "yFit=m[0]*x**2+m[1]*x+m[2]\n",
        "\n",
        "fig,ax = plt.subplots(1,1)\n",
        "fig.set_size_inches(10,5)\n",
        "ax.plot(x,yNoise,'.',label=\"Noisy Data\")\n",
        "ax.plot(x,yFit,color='red', label=\"Fit\")\n",
        "ax.set(xlabel='x',ylabel='y')\n",
        "plt.legend()\n",
        "plt.show()"
      ],
      "metadata": {
        "id": "oRzA3e8cJHYv",
        "outputId": "2420f41a-328c-4eed-82a7-1d85b242296b",
        "colab": {
          "base_uri": "https://localhost:8080/",
          "height": 334
        }
      },
      "execution_count": null,
      "outputs": [
        {
          "output_type": "display_data",
          "data": {
            "text/plain": [
              "<Figure size 720x360 with 1 Axes>"
            ],
            "image/png": "[encoded data removed]"
          },
          "metadata": {
            "needs_background": "light"
          }
        }
      ]
    },
    {
      "cell_type": "markdown",
      "source": [
        "(e) Write a function that will evaluate your polynomial fit at x-values you input.  Your function should take in the parameter array that is output from your polynomial fit function and an array of x-values. Your function should output an array of y-values associated with the fit. Recreate the plot from the previous question using your new function to confirm that it's working properly."
      ],
      "metadata": {
        "id": "PlvxM432_QL7"
      }
    },
    {
      "cell_type": "code",
      "source": [
        "def fitY(x,m):\n",
        "  y=np.zeros(len(x))\n",
        "  yindiv=0\n",
        "  for i in range(len(x)):\n",
        "    for ii in range(len(m)):\n",
        "      yindiv = yindiv+m[ii]*x[i]**(len(m)-(1+ii))\n",
        "    y[i]=yindiv\n",
        "    yindiv=0\n",
        "  return y\n"
      ],
      "metadata": {
        "id": "l_DhjNc1NGIN"
      },
      "execution_count": null,
      "outputs": []
    },
    {
      "cell_type": "markdown",
      "source": [
        "2. Now that you can quickly fit data and plot the results, this question will explore polynomial fits of different degrees."
      ],
      "metadata": {
        "id": "xkeanKWRH8R2"
      }
    },
    {
      "cell_type": "markdown",
      "source": [
        "(a) Let's say we have a linear data set with some noise.  To mimic this, create a noisy data set. Use $10$ x-values in the range $[-5,5]$, and use the equation $y=5x+2$. Add noise with an amplitude of $10$. Plot the data points."
      ],
      "metadata": {
        "id": "NvjBK04FJq62"
      }
    },
    {
      "cell_type": "code",
      "source": [
        "x=np.linspace(-5,5,10)\n",
        "y=noiseAdd(5*x+2,10)\n",
        "\n",
        "fig,ax = plt.subplots(1,1)\n",
        "fig.set_size_inches(10,5)\n",
        "ax.plot(x,y,'.',label=\"Noisy Data\")\n",
        "ax.set(xlabel='x',ylabel='y')\n",
        "plt.legend()\n",
        "plt.show()"
      ],
      "metadata": {
        "id": "U1nIDQweSzb2",
        "outputId": "54e5318c-eeb5-4eee-d603-19ce0339dd14",
        "colab": {
          "base_uri": "https://localhost:8080/",
          "height": 337
        }
      },
      "execution_count": null,
      "outputs": [
        {
          "output_type": "display_data",
          "data": {
            "text/plain": [
              "<Figure size 720x360 with 1 Axes>"
            ],
            "image/png": "[encoded data removed]"
          },
          "metadata": {
            "needs_background": "light"
          }
        }
      ]
    },
    {
      "cell_type": "markdown",
      "source": [
        "(b) Use your polynomial fitting function to fit polynomials of orders $1,2,5,10$ to your data set. Use your polynomial evaluation function to evaluate each fit over a larger and more finely spaced array of x-values, say $1000$ points in the range $[-8,8]$. Plot your original data points along with these fit evaluations, and include a legend. Restrict the y-range of your plot so that you can clearly see how the fits compare to the data points and to each other."
      ],
      "metadata": {
        "id": "7iYMHaOmQ6o6"
      }
    },
    {
      "cell_type": "code",
      "source": [
        "xfit=np.linspace(-8,8,1000)\n",
        "\n",
        "m1=findParams(x,y,1)\n",
        "m2=findParams(x,y,2)\n",
        "m5=findParams(x,y,5)\n",
        "m10=findParams(x,y,10)\n",
        "\n",
        "y1=fitY(xfit,m1)\n",
        "y2=fitY(xfit,m2)\n",
        "y5=fitY(xfit,m5)\n",
        "y10=fitY(xfit,m10)\n",
        "\n",
        "\n",
        "fig,ax = plt.subplots(1,1)\n",
        "fig.set_size_inches(10,5)\n",
        "ax.plot(x,y,'.',label=\"Noisy Data\")\n",
        "ax.plot(xfit,y1,color='red',label=\"k= 1 Fit\")\n",
        "ax.plot(xfit,y2,color='orange',label=\"k= 2 Fit\")\n",
        "ax.plot(xfit,y5,color='magenta',label=\"k= 5 Fit\")\n",
        "ax.plot(xfit,y10,color='teal',label=\"k= 10 Fit\")\n",
        "\n",
        "\n",
        "ax.set(xlabel='x',ylabel='y',xlim=[-5,5],ylim=[-40,40])\n",
        "plt.legend()\n",
        "plt.show()\n"
      ],
      "metadata": {
        "id": "JhjOmbUsTO7d",
        "outputId": "35fa3dd1-2a83-43a9-d5bb-dc80cb7a8c94",
        "colab": {
          "base_uri": "https://localhost:8080/",
          "height": 338
        }
      },
      "execution_count": null,
      "outputs": [
        {
          "output_type": "display_data",
          "data": {
            "text/plain": [
              "<Figure size 720x360 with 1 Axes>"
            ],
            "image/png": "[encoded data removed]"
          },
          "metadata": {
            "needs_background": "light"
          }
        }
      ]
    },
    {
      "cell_type": "markdown",
      "source": [
        "(c) Discuss the fit results from (b). How do the fits change, relative to the data points, as the order of the fit is increased? What about the behavior between the data points, and beyond the range of the original data?  If we didn't know the underlying function that generate this data, discuss how you might evaluate whether each fit is a reasonable or unreasonable fit. "
      ],
      "metadata": {
        "id": "BQrCzb2jSX45"
      }
    },
    {
      "cell_type": "markdown",
      "source": [
        "As the order of the fit is increased, our fit finds a polynomial which matches the exact datapoints more closely while ignoring the overall trend. This results in a large variation from the data's trend between data points. In addition, as we move past the range of the original data we observe that the higher order fits eventually diverge from the trendline and go to $\\pm\\infty$.\n",
        "\n",
        "If we don't know the underlying function for this data, one way we might evaluate whether each fit is reasonable would be to collect data outside our original range. We  expect that the correct order fit will accurately predict data at any x value. If we notice a significant deviation between what our model predicts at that point and our measured values, we know we have underfit or overfit our model to the data. "
      ],
      "metadata": {
        "id": "W_Sos4wXVNSh"
      }
    }
  ]
}